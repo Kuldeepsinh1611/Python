{
 "cells": [
  {
   "cell_type": "code",
   "execution_count": 18,
   "id": "e35ed5b6-00d9-4002-94e6-b4e351729488",
   "metadata": {},
   "outputs": [],
   "source": [
    "class Book:\n",
    "    def __init__(self,id,title,author,price):\n",
    "        self.id=id\n",
    "        self.title=title\n",
    "        self.author=author\n",
    "        self.price=price\n",
    "\n",
    "    def __str__(self):\n",
    "        return f'ID : {self.id}\\nTitle : {self.title}\\nAuthor : {self.author}\\nPrice : {self.price}\\n'\n",
    "\n",
    "    def setprice(self,price):\n",
    "        self.price=price"
   ]
  },
  {
   "cell_type": "code",
   "execution_count": 24,
   "id": "c346ea72-3750-4f58-8cde-e274cb3a7d03",
   "metadata": {},
   "outputs": [],
   "source": [
    "class Library:\n",
    "    def __init__(self,books):\n",
    "        self.books=books\n",
    "\n",
    "    def addbook(self):\n",
    "        id=int(input('Enter Book ID : '))\n",
    "        title=input('Enter Book Title : ')\n",
    "        author=input('Enter Book Author Name : ')\n",
    "        price=int(input('Enter Book Price : '))\n",
    "        book=Book(id,title,author,price)\n",
    "        self.books.append(book)\n",
    "        print('Book Added')\n",
    "\n",
    "    def issuebook(self,uname):\n",
    "        book_id=int(input('Enter Book ID : '))\n",
    "        book_title=input('Enter Book Title : ')\n",
    "        for book in self.books:\n",
    "            if book.id==book_id and book.title==book_title:\n",
    "                issue_book=book\n",
    "        print('5% Charge taken')\n",
    "        print('Book Issued')\n",
    "        self.print_bill(issue_book,uname)\n",
    "\n",
    "    def print_bill(self,issue_book,uname):\n",
    "        book_write=open(uname+'.txt','a+')\n",
    "        book_write.write(f'ID : {issue_book.id}\\n')\n",
    "        book_write.write('Title : '+issue_book.title+'\\n')\n",
    "        book_write.write('Author : '+issue_book.author+'\\n')\n",
    "        book_write.write(f'Charge : {issue_book.price*0.05}\\n')\n",
    "        book_write.write('-'*30+'\\n')\n",
    "        book_write.close()\n",
    "\n",
    "    def read_bill(self,uname):\n",
    "        book_read=open(uname+'.txt','r')\n",
    "        print(book_read.read())\n",
    "        book_read.close()\n",
    "\n",
    "    def search_book(self):\n",
    "        choice=int(input('Enter\\n1.By ID\\n2.By Title\\n'))\n",
    "        if choice==1:\n",
    "            id=int(input('Enter ID : '))\n",
    "            for book in self.books:\n",
    "                if book.id==id:\n",
    "                    return book\n",
    "        elif choice==2:\n",
    "            title=input('Enter Title : ')\n",
    "            for book in self.books:\n",
    "                if book.title==title:\n",
    "                    return book\n",
    "        else:\n",
    "            return -1\n",
    "\n",
    "    def delete_book(self):\n",
    "        id=int(input('Enter ID : '))\n",
    "        for book in self.books:\n",
    "            if book.id==id:\n",
    "                deleted_book=book\n",
    "                self.books.remove(book)\n",
    "                print('Book Removed')\n",
    "                return deleted_book\n",
    "\n",
    "    def update_book(self):\n",
    "        id=int(input('Enter ID : '))\n",
    "        for i in range(len(self.books)):\n",
    "            if self.books[i].id==id:\n",
    "                price=int(input('Enter New Price : '))\n",
    "                self.books[i].setprice(price)\n",
    "                print(f'Book Price is updated {self.books[i].price}')\n",
    "\n",
    "    def show_book(self,title):\n",
    "        read_book=open(title+'.txt','r')\n",
    "        print(read_book.read())"
   ]
  },
  {
   "cell_type": "code",
   "execution_count": 25,
   "id": "a4104216-4930-46e5-afc9-f6d7fb74ea49",
   "metadata": {},
   "outputs": [
    {
     "name": "stdin",
     "output_type": "stream",
     "text": [
      "Enter User Name :  Kuldeepsinh\n",
      "Enter\n",
      "1.Add Book\n",
      "2.Search Book\n",
      "3.Issue Book\n",
      "4.Delete Book\n",
      "5.Update Price\n",
      "6.Show Book\n",
      "7.Exit\n",
      " 3\n",
      "Enter Book ID :  1\n",
      "Enter Book Title :  The Lottery\n"
     ]
    },
    {
     "name": "stdout",
     "output_type": "stream",
     "text": [
      "5% Charge taken\n",
      "Book Issued\n"
     ]
    },
    {
     "name": "stdin",
     "output_type": "stream",
     "text": [
      "Enter 1 to issue another book else exit 1\n",
      "Enter Book ID :  2\n",
      "Enter Book Title :  The Tell-Tale Heart\n"
     ]
    },
    {
     "name": "stdout",
     "output_type": "stream",
     "text": [
      "5% Charge taken\n",
      "Book Issued\n"
     ]
    },
    {
     "name": "stdin",
     "output_type": "stream",
     "text": [
      "Enter 1 to issue another book else exit 2\n"
     ]
    },
    {
     "name": "stdout",
     "output_type": "stream",
     "text": [
      "ID : 1\n",
      "Title : The Lottery\n",
      "Author : Shirley Jackson\n",
      "Charge : 5.0\n",
      "------------------------------\n",
      "ID : 2\n",
      "Title : The Tell-Tale Heart\n",
      "Author : Edgar Allan Poe\n",
      "Charge : 10.0\n",
      "------------------------------\n",
      "\n",
      "\n"
     ]
    },
    {
     "name": "stdin",
     "output_type": "stream",
     "text": [
      "Enter\n",
      "1.Add Book\n",
      "2.Search Book\n",
      "3.Issue Book\n",
      "4.Delete Book\n",
      "5.Update Price\n",
      "6.Show Book\n",
      "7.Exit\n",
      " 6\n",
      "Enter Title :  The Tell-Tale Heart\n"
     ]
    },
    {
     "name": "stdout",
     "output_type": "stream",
     "text": [
      "The Tell-Table Heart\n",
      "\n"
     ]
    },
    {
     "name": "stdin",
     "output_type": "stream",
     "text": [
      "Enter\n",
      "1.Add Book\n",
      "2.Search Book\n",
      "3.Issue Book\n",
      "4.Delete Book\n",
      "5.Update Price\n",
      "6.Show Book\n",
      "7.Exit\n",
      " 7\n"
     ]
    },
    {
     "name": "stdout",
     "output_type": "stream",
     "text": [
      "Thanks...\n"
     ]
    }
   ],
   "source": [
    "books=[Book(1,'The Lottery','Shirley Jackson',100),Book(2,'The Tell-Tale Heart','Edgar Allan Poe',200),Book(3,'A Good Man is Hard to Find','Flannery O\\'Connor',300),Book(4,'The Yellow Wallpaper','Charlotte Perkins Gilman',400),Book(5,'The Gift of the Magi','O. Henry',500)]\n",
    "library=Library(books)\n",
    "user=input('Enter User Name : ')\n",
    "while True:\n",
    "    c=int(input('Enter\\n1.Add Book\\n2.Search Book\\n3.Issue Book\\n4.Delete Book\\n5.Update Price\\n6.Show Book\\n7.Exit\\n'))\n",
    "    if c==1:\n",
    "        library.addbook()\n",
    "    elif c==2:\n",
    "        book=library.search_book()\n",
    "        print(book)\n",
    "    elif c==3:\n",
    "        while True:\n",
    "            library.issuebook(user)\n",
    "            choice=int(input('Enter 1 to issue another book else exit'))\n",
    "            if choice!=1:\n",
    "                break\n",
    "        library.read_bill(user)\n",
    "    elif c==4:\n",
    "        library.delete_book()\n",
    "    elif c==5:\n",
    "        library.update_book()\n",
    "    elif c==6:\n",
    "        title=input('Enter Title : ')\n",
    "        library.show_book(title)\n",
    "    elif c==7:\n",
    "        break\n",
    "    else:\n",
    "        print('Please Enter Valid Choice')\n",
    "    print()\n",
    "print('Thanks...')"
   ]
  },
  {
   "cell_type": "code",
   "execution_count": null,
   "id": "2dca8463-3e53-407e-97d8-75c480687f30",
   "metadata": {},
   "outputs": [],
   "source": []
  }
 ],
 "metadata": {
  "kernelspec": {
   "display_name": "Python 3 (ipykernel)",
   "language": "python",
   "name": "python3"
  },
  "language_info": {
   "codemirror_mode": {
    "name": "ipython",
    "version": 3
   },
   "file_extension": ".py",
   "mimetype": "text/x-python",
   "name": "python",
   "nbconvert_exporter": "python",
   "pygments_lexer": "ipython3",
   "version": "3.12.2"
  }
 },
 "nbformat": 4,
 "nbformat_minor": 5
}
