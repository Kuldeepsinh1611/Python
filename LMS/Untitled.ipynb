{
 "cells": [
  {
   "cell_type": "code",
   "execution_count": 1,
   "id": "c7ea1c4c-f648-4cb0-965f-140f353bb7fb",
   "metadata": {},
   "outputs": [],
   "source": [
    "from tkinter import *"
   ]
  },
  {
   "cell_type": "code",
   "execution_count": 2,
   "id": "9e488fac-1b2f-4130-92f7-03cbcc6ef17d",
   "metadata": {},
   "outputs": [],
   "source": [
    "root=Tk()\n",
    "root.title('tkinter in jupyter notebook')\n",
    "\n",
    "label=Label(root,text='Hello, Tkinter')\n",
    "button=Button(root,text='Click me!',command=root.destroy)\n",
    "\n",
    "label.pack()\n",
    "button.pack()\n",
    "\n",
    "root.mainloop()"
   ]
  }
 ],
 "metadata": {
  "kernelspec": {
   "display_name": "Python 3 (ipykernel)",
   "language": "python",
   "name": "python3"
  },
  "language_info": {
   "codemirror_mode": {
    "name": "ipython",
    "version": 3
   },
   "file_extension": ".py",
   "mimetype": "text/x-python",
   "name": "python",
   "nbconvert_exporter": "python",
   "pygments_lexer": "ipython3",
   "version": "3.12.2"
  }
 },
 "nbformat": 4,
 "nbformat_minor": 5
}
